{
 "cells": [
  {
   "cell_type": "code",
   "execution_count": 557,
   "metadata": {
    "collapsed": true
   },
   "outputs": [],
   "source": [
    "import pandas as pd\n",
    "import seaborn as sns\n",
    "import numpy as np\n",
    "import warnings\n",
    "from matplotlib import pyplot as plt\n",
    "%matplotlib inline\n",
    "warnings.filterwarnings('ignore')"
   ]
  },
  {
   "cell_type": "code",
   "execution_count": 558,
   "outputs": [],
   "source": [
    "frog = pd.read_csv('frogs_mfcc.csv', sep=',')"
   ],
   "metadata": {
    "collapsed": false,
    "pycharm": {
     "name": "#%%\n"
    }
   }
  },
  {
   "cell_type": "code",
   "execution_count": 559,
   "outputs": [],
   "source": [
    "# specify feature names & target names\n",
    "x=frog[[\"MFCCs_ 1\",\"MFCCs_ 2\",\"MFCCs_ 3\",\"MFCCs_ 4\",\"MFCCs_ 5\",\"MFCCs_ 6\",\"MFCCs_ 7\",\"MFCCs_ 8\",\"MFCCs_ 9\",\"MFCCs_10\",\n",
    "        \"MFCCs_11\",\"MFCCs_12\",\"MFCCs_13\",\"MFCCs_14\",\"MFCCs_15\",\"MFCCs_16\",\"MFCCs_17\",\"MFCCs_18\",\"MFCCs_19\",\n",
    "        \"MFCCs_20\",\"MFCCs_21\",\"MFCCs_22\"]]\n",
    "y=frog[[\"Species\"]]"
   ],
   "metadata": {
    "collapsed": false,
    "pycharm": {
     "name": "#%%\n"
    }
   }
  },
  {
   "cell_type": "code",
   "execution_count": 560,
   "outputs": [
    {
     "name": "stdout",
     "output_type": "stream",
     "text": [
      "Lower limit calculated are: \n",
      " MFCCs_ 1    1.000000\n",
      "MFCCs_ 2   -0.284987\n",
      "MFCCs_ 3   -0.299929\n",
      "MFCCs_ 4    0.002050\n",
      "MFCCs_ 5   -0.204594\n",
      "MFCCs_ 6   -0.232482\n",
      "MFCCs_ 7   -0.442713\n",
      "MFCCs_ 8   -0.270433\n",
      "MFCCs_ 9   -0.386471\n",
      "MFCCs_10   -0.179418\n",
      "MFCCs_11   -0.714684\n",
      "MFCCs_12   -0.283475\n",
      "MFCCs_13   -0.494030\n",
      "MFCCs_14   -0.391186\n",
      "MFCCs_15   -0.665846\n",
      "MFCCs_16   -0.209441\n",
      "MFCCs_17   -0.307307\n",
      "MFCCs_18   -0.198139\n",
      "MFCCs_19   -0.274680\n",
      "MFCCs_20   -0.304439\n",
      "MFCCs_21   -0.178478\n",
      "MFCCs_22   -0.290896\n",
      "dtype: float64\n",
      "Upper limit calculated are: \n",
      " MFCCs_ 1    1.000000\n",
      "MFCCs_ 2    0.917498\n",
      "MFCCs_ 3    0.869069\n",
      "MFCCs_ 4    0.894548\n",
      "MFCCs_ 5    0.478903\n",
      "MFCCs_ 6    0.421020\n",
      "MFCCs_ 7    0.402555\n",
      "MFCCs_ 8    0.282432\n",
      "MFCCs_ 9    0.656514\n",
      "MFCCs_10    0.296011\n",
      "MFCCs_11    0.471513\n",
      "MFCCs_12    0.381976\n",
      "MFCCs_13    0.815760\n",
      "MFCCs_14    0.297364\n",
      "MFCCs_15    0.427265\n",
      "MFCCs_16    0.296938\n",
      "MFCCs_17    0.507475\n",
      "MFCCs_18    0.217905\n",
      "MFCCs_19    0.174921\n",
      "MFCCs_20    0.184810\n",
      "MFCCs_21    0.250477\n",
      "MFCCs_22    0.486248\n",
      "dtype: float64\n"
     ]
    }
   ],
   "source": [
    "def interQuartile(x):\n",
    "  percentile25= x.quantile(0.25)\n",
    "  percentile75=x.quantile(0.75)\n",
    "  iqr=percentile75-percentile25\n",
    "  upperLimit= percentile75+1.5*iqr\n",
    "  lowerLimit= percentile25-1.5*iqr\n",
    "  return upperLimit, lowerLimit\n",
    "\n",
    "upper,lower= interQuartile(x)\n",
    "print(\"Lower limit calculated are: \\n\", lower)\n",
    "print(\"Upper limit calculated are: \\n\", upper)"
   ],
   "metadata": {
    "collapsed": false,
    "pycharm": {
     "name": "#%%\n"
    }
   }
  },
  {
   "cell_type": "code",
   "execution_count": 561,
   "outputs": [
    {
     "name": "stdout",
     "output_type": "stream",
     "text": [
      "Number of entries below the lower limit are \n",
      " MFCCs_ 1    248\n",
      "MFCCs_ 2     40\n",
      "MFCCs_ 3     19\n",
      "MFCCs_ 4    106\n",
      "MFCCs_ 5    364\n",
      "MFCCs_ 6      4\n",
      "MFCCs_ 7      2\n",
      "MFCCs_ 8    127\n",
      "MFCCs_ 9     17\n",
      "MFCCs_10    372\n",
      "MFCCs_11      3\n",
      "MFCCs_12    177\n",
      "MFCCs_13     17\n",
      "MFCCs_14     22\n",
      "MFCCs_15      1\n",
      "MFCCs_16    142\n",
      "MFCCs_17     16\n",
      "MFCCs_18     91\n",
      "MFCCs_19     13\n",
      "MFCCs_20      7\n",
      "MFCCs_21     29\n",
      "MFCCs_22      6\n",
      "dtype: int64\n",
      "Number of entries above the upper limit are \n",
      " MFCCs_ 1      0\n",
      "MFCCs_ 2     95\n",
      "MFCCs_ 3    306\n",
      "MFCCs_ 4     33\n",
      "MFCCs_ 5     59\n",
      "MFCCs_ 6     82\n",
      "MFCCs_ 7    331\n",
      "MFCCs_ 8     39\n",
      "MFCCs_ 9      1\n",
      "MFCCs_10    222\n",
      "MFCCs_11      6\n",
      "MFCCs_12    181\n",
      "MFCCs_13      2\n",
      "MFCCs_14    148\n",
      "MFCCs_15     28\n",
      "MFCCs_16    164\n",
      "MFCCs_17      1\n",
      "MFCCs_18     39\n",
      "MFCCs_19     49\n",
      "MFCCs_20     76\n",
      "MFCCs_21     30\n",
      "MFCCs_22      0\n",
      "dtype: int64\n"
     ]
    }
   ],
   "source": [
    "print(\"Number of entries below the lower limit are \\n\", (x < lower).sum())\n",
    "print(\"Number of entries above the upper limit are \\n\", (x > upper).sum())"
   ],
   "metadata": {
    "collapsed": false,
    "pycharm": {
     "name": "#%%\n"
    }
   }
  },
  {
   "cell_type": "code",
   "execution_count": 562,
   "outputs": [
    {
     "name": "stdout",
     "output_type": "stream",
     "text": [
      "(4317, 22)\n",
      "(1439, 22)\n",
      "(1439, 22)\n",
      "(1439, 1)\n",
      "(4317, 1)\n",
      "(1439, 1)\n"
     ]
    }
   ],
   "source": [
    "# Splitting the training, test & validation set to 80:10:10 ratio\n",
    "from sklearn.model_selection import train_test_split\n",
    "x_train, x_test, y_train, y_test = train_test_split(x, y, test_size=0.2, random_state=42)\n",
    "x_train, x_val, y_train, y_val = train_test_split(x_train, y_train, test_size=0.25, random_state=42)\n",
    "print(x_train.shape)\n",
    "print(x_test.shape)\n",
    "print(x_val.shape)\n",
    "print(y_val.shape)\n",
    "print(y_train.shape)\n",
    "print(y_test.shape)"
   ],
   "metadata": {
    "collapsed": false,
    "pycharm": {
     "name": "#%%\n"
    }
   }
  },
  {
   "cell_type": "code",
   "execution_count": 563,
   "outputs": [],
   "source": [
    "# importing the class\n",
    "from sklearn.linear_model import SGDClassifier\n",
    "\n",
    "logreg = SGDClassifier(loss='log', eta0=0.2, learning_rate='constant', penalty=None, max_iter=200, random_state=100)"
   ],
   "metadata": {
    "collapsed": false,
    "pycharm": {
     "name": "#%%\n"
    }
   }
  },
  {
   "cell_type": "code",
   "execution_count": 564,
   "outputs": [
    {
     "data": {
      "text/plain": "SGDClassifier(eta0=0.2, learning_rate='constant', loss='log', max_iter=200,\n              penalty=None, random_state=100)"
     },
     "execution_count": 564,
     "metadata": {},
     "output_type": "execute_result"
    }
   ],
   "source": [
    "# fit the model with training set\n",
    "logreg.fit(x_train,y_train)"
   ],
   "metadata": {
    "collapsed": false,
    "pycharm": {
     "name": "#%%\n"
    }
   }
  },
  {
   "cell_type": "code",
   "execution_count": 565,
   "outputs": [],
   "source": [
    "# validating or optimizing the model using validation set"
   ],
   "metadata": {
    "collapsed": false,
    "pycharm": {
     "name": "#%%\n"
    }
   }
  },
  {
   "cell_type": "code",
   "execution_count": 566,
   "outputs": [],
   "source": [
    "yval=logreg.predict(x_val)"
   ],
   "metadata": {
    "collapsed": false,
    "pycharm": {
     "name": "#%%\n"
    }
   }
  },
  {
   "cell_type": "code",
   "execution_count": 567,
   "outputs": [],
   "source": [
    "from sklearn import metrics\n",
    "from sklearn.metrics import classification_report\n",
    "cnf_matrix = metrics.confusion_matrix(y_val, y_val)"
   ],
   "metadata": {
    "collapsed": false,
    "pycharm": {
     "name": "#%%\n"
    }
   }
  },
  {
   "cell_type": "code",
   "execution_count": 568,
   "outputs": [
    {
     "name": "stdout",
     "output_type": "stream",
     "text": [
      "Accuracy against Validation set: \n",
      " 0.9444058373870744\n",
      "Confusion Matrix: \n",
      " [[144   0   0   0   0   0   0   0   0   0]\n",
      " [  0 702   0   0   0   0   0   0   0   0]\n",
      " [  0   0  98   0   0   0   0   0   0   0]\n",
      " [  0   0   0  56   0   0   0   0   0   0]\n",
      " [  0   0   0   0 111   0   0   0   0   0]\n",
      " [  0   0   0   0   0 222   0   0   0   0]\n",
      " [  0   0   0   0   0   0  40   0   0   0]\n",
      " [  0   0   0   0   0   0   0  27   0   0]\n",
      " [  0   0   0   0   0   0   0   0  11   0]\n",
      " [  0   0   0   0   0   0   0   0   0  28]]\n",
      "Classification Report: \n",
      "                         precision    recall  f1-score   support\n",
      "\n",
      "        AdenomeraAndre       0.95      0.94      0.94       146\n",
      "AdenomeraHylaedactylus       1.00      0.98      0.99       713\n",
      "    Ameeregatrivittata       0.97      0.91      0.94       104\n",
      "            HylaMinuta       0.64      0.97      0.77        37\n",
      "  HypsiboasCinerascens       0.94      0.95      0.95       109\n",
      "     HypsiboasCordobae       0.98      0.84      0.91       257\n",
      "   LeptodactylusFuscus       0.80      0.94      0.86        34\n",
      " OsteocephalusOophagus       0.33      0.90      0.49        10\n",
      "     Rhinellagranulosa       0.00      0.00      0.00         0\n",
      "           ScinaxRuber       0.96      0.93      0.95        29\n",
      "\n",
      "              accuracy                           0.94      1439\n",
      "             macro avg       0.76      0.84      0.78      1439\n",
      "          weighted avg       0.96      0.94      0.95      1439\n",
      "\n"
     ]
    }
   ],
   "source": [
    "# using the validation set we know that the\n",
    "print(\"Accuracy against Validation set: \\n\",metrics.accuracy_score(yval, y_val))\n",
    "print(\"Confusion Matrix: \\n\",cnf_matrix)\n",
    "print(\"Classification Report: \\n\",classification_report(yval, y_val))"
   ],
   "metadata": {
    "collapsed": false,
    "pycharm": {
     "name": "#%%\n"
    }
   }
  },
  {
   "cell_type": "code",
   "execution_count": 569,
   "outputs": [],
   "source": [
    "# finally, testing the model with the test set"
   ],
   "metadata": {
    "collapsed": false,
    "pycharm": {
     "name": "#%%\n"
    }
   }
  },
  {
   "cell_type": "code",
   "execution_count": 570,
   "outputs": [],
   "source": [
    "y_pred=logreg.predict(x_test)"
   ],
   "metadata": {
    "collapsed": false,
    "pycharm": {
     "name": "#%%\n"
    }
   }
  },
  {
   "cell_type": "code",
   "execution_count": 571,
   "outputs": [
    {
     "name": "stdout",
     "output_type": "stream",
     "text": [
      "Accuracy against Test set: \n",
      " 0.9409312022237665\n",
      "Confusion Matrix: \n",
      " [[144   0   0   0   0   0   0   0   0   0]\n",
      " [  0 702   0   0   0   0   0   0   0   0]\n",
      " [  0   0  98   0   0   0   0   0   0   0]\n",
      " [  0   0   0  56   0   0   0   0   0   0]\n",
      " [  0   0   0   0 111   0   0   0   0   0]\n",
      " [  0   0   0   0   0 222   0   0   0   0]\n",
      " [  0   0   0   0   0   0  40   0   0   0]\n",
      " [  0   0   0   0   0   0   0  27   0   0]\n",
      " [  0   0   0   0   0   0   0   0  11   0]\n",
      " [  0   0   0   0   0   0   0   0   0  28]]\n",
      "Classification Report: \n",
      "                         precision    recall  f1-score   support\n",
      "\n",
      "        AdenomeraAndre       0.90      0.94      0.92       140\n",
      "AdenomeraHylaedactylus       1.00      0.99      0.99       703\n",
      "    Ameeregatrivittata       0.97      0.91      0.94       113\n",
      "            HylaMinuta       0.68      0.95      0.80        41\n",
      "  HypsiboasCinerascens       0.97      0.93      0.95        94\n",
      "     HypsiboasCordobae       0.99      0.84      0.90       273\n",
      "   LeptodactylusFuscus       0.89      0.94      0.91        51\n",
      " OsteocephalusOophagus       0.15      1.00      0.26         3\n",
      "     Rhinellagranulosa       0.00      0.00      0.00         0\n",
      "           ScinaxRuber       0.83      0.95      0.89        21\n",
      "\n",
      "              accuracy                           0.94      1439\n",
      "             macro avg       0.74      0.84      0.76      1439\n",
      "          weighted avg       0.97      0.94      0.95      1439\n",
      "\n"
     ]
    }
   ],
   "source": [
    "print(\"Accuracy against Test set: \\n\",metrics.accuracy_score(y_pred, y_test))\n",
    "print(\"Confusion Matrix: \\n\",cnf_matrix)\n",
    "print(\"Classification Report: \\n\",classification_report(y_pred, y_test))"
   ],
   "metadata": {
    "collapsed": false,
    "pycharm": {
     "name": "#%%\n"
    }
   }
  },
  {
   "cell_type": "code",
   "execution_count": 572,
   "outputs": [
    {
     "name": "stdout",
     "output_type": "stream",
     "text": [
      "1 Iteration Train:  0.8990039379198518 Validation:  0.9117442668519805\n",
      "2 Iteration Train:  0.9184618948343757 Validation:  0.9305072967338429\n",
      "3 Iteration Train:  0.9168403984248321 Validation:  0.925642807505212\n",
      "4 Iteration Train:  0.9182302524901552 Validation:  0.9291174426685198\n",
      "5 Iteration Train:  0.9166087560806115 Validation:  0.9242529534398888\n",
      "6 Iteration Train:  0.9284225156358582 Validation:  0.9409312022237665\n",
      "7 Iteration Train:  0.9286541579800788 Validation:  0.9360667129951356\n",
      "8 Iteration Train:  0.9339819318971508 Validation:  0.940236275191105\n",
      "9 Iteration Train:  0.9323604354876072 Validation:  0.9395413481584434\n",
      "10 Iteration Train:  0.9434792680101922 Validation:  0.9527449617790132\n",
      "11 Iteration Train:  0.9307389390780635 Validation:  0.9346768589298123\n",
      "12 Iteration Train:  0.9369932823720176 Validation:  0.9395413481584434\n",
      "13 Iteration Train:  0.9413944869122075 Validation:  0.9492703266157053\n",
      "14 Iteration Train:  0.9372249247162381 Validation:  0.9444058373870744\n",
      "15 Iteration Train:  0.9374565670604587 Validation:  0.9409312022237665\n",
      "16 Iteration Train:  0.9400046328468844 Validation:  0.9485753995830438\n",
      "17 Iteration Train:  0.9404679175353254 Validation:  0.9471855455177206\n",
      "18 Iteration Train:  0.9476488302061616 Validation:  0.9583043780403058\n",
      "19 Iteration Train:  0.9383831364373407 Validation:  0.9464906184850591\n",
      "20 Iteration Train:  0.9439425526986334 Validation:  0.95135510771369\n",
      "21 Iteration Train:  0.9469539031735001 Validation:  0.9541348158443363\n",
      "22 Iteration Train:  0.9457956914523975 Validation:  0.9527449617790132\n",
      "23 Iteration Train:  0.9464906184850591 Validation:  0.954829742876998\n",
      "24 Iteration Train:  0.9471855455177206 Validation:  0.95135510771369\n",
      "25 Iteration Train:  0.9381514940931203 Validation:  0.9471855455177206\n",
      "26 Iteration Train:  0.940699559879546 Validation:  0.9464906184850591\n",
      "27 Iteration Train:  0.9448691220755154 Validation:  0.9520500347463516\n",
      "28 Iteration Train:  0.9495019689599259 Validation:  0.9617790132036136\n",
      "29 Iteration Train:  0.9476488302061616 Validation:  0.9576094510076442\n",
      "30 Iteration Train:  0.9388464211257818 Validation:  0.9444058373870744\n",
      "31 Iteration Train:  0.935371785962474 Validation:  0.9416261292564281\n",
      "32 Iteration Train:  0.9448691220755154 Validation:  0.95135510771369\n",
      "33 Iteration Train:  0.9448691220755154 Validation:  0.9527449617790132\n",
      "34 Iteration Train:  0.936761640027797 Validation:  0.9437109103544128\n",
      "35 Iteration Train:  0.9476488302061616 Validation:  0.9617790132036136\n",
      "36 Iteration Train:  0.9453324067639565 Validation:  0.9506601806810285\n",
      "37 Iteration Train:  0.9423210562890897 Validation:  0.9464906184850591\n",
      "38 Iteration Train:  0.9437109103544128 Validation:  0.9527449617790132\n",
      "39 Iteration Train:  0.9453324067639565 Validation:  0.9534398888116747\n",
      "40 Iteration Train:  0.9418577716006487 Validation:  0.9464906184850591\n",
      "41 Iteration Train:  0.9427843409775307 Validation:  0.9555246699096595\n",
      "42 Iteration Train:  0.9483437572388232 Validation:  0.9569145239749827\n",
      "43 Iteration Train:  0.9432476256659718 Validation:  0.9485753995830438\n",
      "44 Iteration Train:  0.950891823025249 Validation:  0.9638637943015983\n",
      "45 Iteration Train:  0.9369932823720176 Validation:  0.9430159833217512\n",
      "46 Iteration Train:  0.9393097058142228 Validation:  0.940236275191105\n",
      "47 Iteration Train:  0.9462589761408385 Validation:  0.95135510771369\n",
      "48 Iteration Train:  0.9397729905026639 Validation:  0.9437109103544128\n",
      "49 Iteration Train:  0.9430159833217512 Validation:  0.9506601806810285\n",
      "50 Iteration Train:  0.9423210562890897 Validation:  0.9485753995830438\n",
      "51 Iteration Train:  0.9318971507991661 Validation:  0.9381514940931203\n",
      "52 Iteration Train:  0.9416261292564281 Validation:  0.9492703266157053\n",
      "53 Iteration Train:  0.9457956914523975 Validation:  0.9555246699096595\n",
      "54 Iteration Train:  0.9432476256659718 Validation:  0.9492703266157053\n",
      "55 Iteration Train:  0.9420894139448691 Validation:  0.9492703266157053\n",
      "56 Iteration Train:  0.9432476256659718 Validation:  0.9499652536483669\n",
      "57 Iteration Train:  0.9462589761408385 Validation:  0.9534398888116747\n",
      "58 Iteration Train:  0.9425526986333101 Validation:  0.9499652536483669\n",
      "59 Iteration Train:  0.9453324067639565 Validation:  0.9527449617790132\n",
      "60 Iteration Train:  0.9360667129951356 Validation:  0.9416261292564281\n",
      "61 Iteration Train:  0.9390780634700023 Validation:  0.9464906184850591\n",
      "62 Iteration Train:  0.9483437572388232 Validation:  0.9569145239749827\n",
      "63 Iteration Train:  0.9381514940931203 Validation:  0.9492703266157053\n",
      "64 Iteration Train:  0.9474171878619412 Validation:  0.9569145239749827\n",
      "65 Iteration Train:  0.9467222608292796 Validation:  0.9583043780403058\n",
      "66 Iteration Train:  0.9420894139448691 Validation:  0.9485753995830438\n",
      "67 Iteration Train:  0.9388464211257818 Validation:  0.9457956914523975\n",
      "68 Iteration Train:  0.9506601806810285 Validation:  0.9624739402362752\n",
      "69 Iteration Train:  0.9409312022237665 Validation:  0.9464906184850591\n",
      "70 Iteration Train:  0.9441741950428538 Validation:  0.9471855455177206\n",
      "71 Iteration Train:  0.9476488302061616 Validation:  0.9562195969423211\n",
      "72 Iteration Train:  0.9427843409775307 Validation:  0.9492703266157053\n",
      "73 Iteration Train:  0.9490386842714849 Validation:  0.9562195969423211\n",
      "74 Iteration Train:  0.9356034283066945 Validation:  0.9437109103544128\n",
      "75 Iteration Train:  0.9430159833217512 Validation:  0.9520500347463516\n",
      "76 Iteration Train:  0.9381514940931203 Validation:  0.9437109103544128\n",
      "77 Iteration Train:  0.9369932823720176 Validation:  0.9451007644197359\n",
      "78 Iteration Train:  0.9397729905026639 Validation:  0.9437109103544128\n",
      "79 Iteration Train:  0.940236275191105 Validation:  0.9464906184850591\n",
      "80 Iteration Train:  0.9409312022237665 Validation:  0.9478804725503822\n",
      "81 Iteration Train:  0.9369932823720176 Validation:  0.9423210562890897\n",
      "82 Iteration Train:  0.941162844567987 Validation:  0.9485753995830438\n",
      "83 Iteration Train:  0.9423210562890897 Validation:  0.9464906184850591\n",
      "84 Iteration Train:  0.9390780634700023 Validation:  0.9430159833217512\n",
      "85 Iteration Train:  0.935835070650915 Validation:  0.9416261292564281\n",
      "86 Iteration Train:  0.9404679175353254 Validation:  0.9478804725503822\n",
      "87 Iteration Train:  0.9330553625202687 Validation:  0.9360667129951356\n",
      "88 Iteration Train:  0.9420894139448691 Validation:  0.9478804725503822\n",
      "89 Iteration Train:  0.9462589761408385 Validation:  0.9534398888116747\n",
      "90 Iteration Train:  0.9397729905026639 Validation:  0.9464906184850591\n",
      "91 Iteration Train:  0.9464906184850591 Validation:  0.95135510771369\n",
      "92 Iteration Train:  0.9400046328468844 Validation:  0.9437109103544128\n",
      "93 Iteration Train:  0.9397729905026639 Validation:  0.9457956914523975\n",
      "94 Iteration Train:  0.9376882094046792 Validation:  0.9437109103544128\n",
      "95 Iteration Train:  0.940699559879546 Validation:  0.9478804725503822\n",
      "96 Iteration Train:  0.9420894139448691 Validation:  0.9499652536483669\n",
      "97 Iteration Train:  0.9390780634700023 Validation:  0.9492703266157053\n",
      "98 Iteration Train:  0.9464906184850591 Validation:  0.9534398888116747\n",
      "99 Iteration Train:  0.9457956914523975 Validation:  0.9541348158443363\n",
      "100 Iteration Train:  0.9437109103544128 Validation:  0.9527449617790132\n",
      "101 Iteration Train:  0.9451007644197359 Validation:  0.9478804725503822\n",
      "102 Iteration Train:  0.9400046328468844 Validation:  0.9444058373870744\n",
      "103 Iteration Train:  0.9478804725503822 Validation:  0.9541348158443363\n",
      "104 Iteration Train:  0.9492703266157053 Validation:  0.9562195969423211\n",
      "105 Iteration Train:  0.9386147787815613 Validation:  0.9464906184850591\n",
      "106 Iteration Train:  0.9386147787815613 Validation:  0.9457956914523975\n",
      "107 Iteration Train:  0.9495019689599259 Validation:  0.9569145239749827\n",
      "108 Iteration Train:  0.941162844567987 Validation:  0.9506601806810285\n",
      "109 Iteration Train:  0.9404679175353254 Validation:  0.9534398888116747\n",
      "110 Iteration Train:  0.9423210562890897 Validation:  0.9499652536483669\n",
      "111 Iteration Train:  0.9485753995830438 Validation:  0.9576094510076442\n",
      "112 Iteration Train:  0.9425526986333101 Validation:  0.9499652536483669\n",
      "113 Iteration Train:  0.9460273337966181 Validation:  0.9527449617790132\n",
      "114 Iteration Train:  0.9372249247162381 Validation:  0.9492703266157053\n",
      "115 Iteration Train:  0.935371785962474 Validation:  0.9430159833217512\n",
      "116 Iteration Train:  0.9365299976835766 Validation:  0.9444058373870744\n",
      "117 Iteration Train:  0.9441741950428538 Validation:  0.9471855455177206\n",
      "118 Iteration Train:  0.9455640491081769 Validation:  0.9506601806810285\n",
      "119 Iteration Train:  0.9413944869122075 Validation:  0.9478804725503822\n",
      "120 Iteration Train:  0.9441741950428538 Validation:  0.95135510771369\n",
      "121 Iteration Train:  0.9395413481584434 Validation:  0.9464906184850591\n",
      "122 Iteration Train:  0.9393097058142228 Validation:  0.9451007644197359\n",
      "123 Iteration Train:  0.9467222608292796 Validation:  0.95135510771369\n",
      "124 Iteration Train:  0.9430159833217512 Validation:  0.95135510771369\n",
      "125 Iteration Train:  0.9418577716006487 Validation:  0.9471855455177206\n",
      "126 Iteration Train:  0.9483437572388232 Validation:  0.9555246699096595\n",
      "127 Iteration Train:  0.9490386842714849 Validation:  0.9610840861709521\n",
      "128 Iteration Train:  0.9483437572388232 Validation:  0.954829742876998\n",
      "129 Iteration Train:  0.9342135742413713 Validation:  0.9409312022237665\n",
      "130 Iteration Train:  0.9390780634700023 Validation:  0.9492703266157053\n",
      "131 Iteration Train:  0.9478804725503822 Validation:  0.9610840861709521\n",
      "132 Iteration Train:  0.9478804725503822 Validation:  0.9569145239749827\n",
      "133 Iteration Train:  0.936298355339356 Validation:  0.9423210562890897\n",
      "134 Iteration Train:  0.9439425526986334 Validation:  0.9492703266157053\n",
      "135 Iteration Train:  0.9430159833217512 Validation:  0.9492703266157053\n",
      "136 Iteration Train:  0.936761640027797 Validation:  0.9451007644197359\n",
      "137 Iteration Train:  0.9432476256659718 Validation:  0.9499652536483669\n",
      "138 Iteration Train:  0.9457956914523975 Validation:  0.9569145239749827\n",
      "139 Iteration Train:  0.9395413481584434 Validation:  0.9444058373870744\n",
      "140 Iteration Train:  0.9346768589298123 Validation:  0.9381514940931203\n",
      "141 Iteration Train:  0.9478804725503822 Validation:  0.9534398888116747\n",
      "142 Iteration Train:  0.9379198517488997 Validation:  0.9457956914523975\n",
      "143 Iteration Train:  0.9423210562890897 Validation:  0.95135510771369\n",
      "144 Iteration Train:  0.9420894139448691 Validation:  0.9506601806810285\n",
      "145 Iteration Train:  0.9453324067639565 Validation:  0.9583043780403058\n",
      "146 Iteration Train:  0.9418577716006487 Validation:  0.9499652536483669\n",
      "147 Iteration Train:  0.9339819318971508 Validation:  0.9430159833217512\n",
      "148 Iteration Train:  0.9388464211257818 Validation:  0.9485753995830438\n",
      "149 Iteration Train:  0.936761640027797 Validation:  0.9457956914523975\n",
      "150 Iteration Train:  0.9365299976835766 Validation:  0.9430159833217512\n",
      "151 Iteration Train:  0.9325920778318276 Validation:  0.940236275191105\n",
      "152 Iteration Train:  0.9381514940931203 Validation:  0.9464906184850591\n",
      "153 Iteration Train:  0.9376882094046792 Validation:  0.9430159833217512\n",
      "154 Iteration Train:  0.9360667129951356 Validation:  0.9416261292564281\n",
      "155 Iteration Train:  0.9488070419272643 Validation:  0.9583043780403058\n",
      "156 Iteration Train:  0.9478804725503822 Validation:  0.9576094510076442\n",
      "157 Iteration Train:  0.9446374797312949 Validation:  0.9499652536483669\n",
      "158 Iteration Train:  0.9464906184850591 Validation:  0.9534398888116747\n",
      "159 Iteration Train:  0.9356034283066945 Validation:  0.9437109103544128\n",
      "160 Iteration Train:  0.9430159833217512 Validation:  0.9485753995830438\n",
      "161 Iteration Train:  0.9446374797312949 Validation:  0.9492703266157053\n",
      "162 Iteration Train:  0.9397729905026639 Validation:  0.9478804725503822\n",
      "163 Iteration Train:  0.9379198517488997 Validation:  0.9430159833217512\n",
      "164 Iteration Train:  0.9413944869122075 Validation:  0.9471855455177206\n",
      "165 Iteration Train:  0.9418577716006487 Validation:  0.9485753995830438\n",
      "166 Iteration Train:  0.9360667129951356 Validation:  0.936761640027797\n",
      "167 Iteration Train:  0.9268010192263145 Validation:  0.9332870048644892\n",
      "168 Iteration Train:  0.9365299976835766 Validation:  0.9437109103544128\n",
      "169 Iteration Train:  0.9506601806810285 Validation:  0.9631688672689368\n",
      "170 Iteration Train:  0.9423210562890897 Validation:  0.9471855455177206\n",
      "171 Iteration Train:  0.9467222608292796 Validation:  0.9541348158443363\n",
      "172 Iteration Train:  0.9337502895529303 Validation:  0.9416261292564281\n",
      "173 Iteration Train:  0.9342135742413713 Validation:  0.936761640027797\n",
      "174 Iteration Train:  0.9372249247162381 Validation:  0.9423210562890897\n",
      "175 Iteration Train:  0.9390780634700023 Validation:  0.9430159833217512\n",
      "176 Iteration Train:  0.935835070650915 Validation:  0.940236275191105\n",
      "177 Iteration Train:  0.9434792680101922 Validation:  0.9506601806810285\n",
      "178 Iteration Train:  0.9395413481584434 Validation:  0.9444058373870744\n",
      "179 Iteration Train:  0.9397729905026639 Validation:  0.9457956914523975\n",
      "180 Iteration Train:  0.9437109103544128 Validation:  0.9471855455177206\n",
      "181 Iteration Train:  0.9360667129951356 Validation:  0.9423210562890897\n",
      "182 Iteration Train:  0.9404679175353254 Validation:  0.9478804725503822\n",
      "183 Iteration Train:  0.9420894139448691 Validation:  0.9464906184850591\n",
      "184 Iteration Train:  0.9434792680101922 Validation:  0.9492703266157053\n",
      "185 Iteration Train:  0.9453324067639565 Validation:  0.9534398888116747\n",
      "186 Iteration Train:  0.9451007644197359 Validation:  0.95135510771369\n",
      "187 Iteration Train:  0.9381514940931203 Validation:  0.9444058373870744\n",
      "188 Iteration Train:  0.9390780634700023 Validation:  0.9457956914523975\n",
      "189 Iteration Train:  0.9437109103544128 Validation:  0.9541348158443363\n",
      "190 Iteration Train:  0.9488070419272643 Validation:  0.9520500347463516\n",
      "191 Iteration Train:  0.9451007644197359 Validation:  0.9534398888116747\n",
      "192 Iteration Train:  0.9434792680101922 Validation:  0.9541348158443363\n",
      "193 Iteration Train:  0.9437109103544128 Validation:  0.9506601806810285\n",
      "194 Iteration Train:  0.9430159833217512 Validation:  0.9506601806810285\n",
      "195 Iteration Train:  0.9425526986333101 Validation:  0.9444058373870744\n",
      "196 Iteration Train:  0.9379198517488997 Validation:  0.9471855455177206\n",
      "197 Iteration Train:  0.9471855455177206 Validation:  0.9576094510076442\n",
      "198 Iteration Train:  0.9339819318971508 Validation:  0.9395413481584434\n",
      "199 Iteration Train:  0.9444058373870744 Validation:  0.9541348158443363\n",
      "Max accuracy score against train set:  0.950891823025249\n",
      "Max accuracy score against validation set:  0.9638637943015983\n"
     ]
    }
   ],
   "source": [
    "# graph comparison of the accuracy between training & validation set\n",
    "iteration = []\n",
    "tr = []\n",
    "val = []\n",
    "for i in range(1, 200):\n",
    "    logreg = SGDClassifier(loss='log', eta0=0.2, learning_rate='constant', penalty=None, max_iter=i)\n",
    "    tempy = logreg.fit(x_train, y_train)\n",
    "\n",
    "    score_tr=logreg.score(x_train,y_train)\n",
    "    score_val=logreg.score(x_val,y_val)\n",
    "\n",
    "    iteration.append(i)\n",
    "    tr.append(score_tr)\n",
    "    val.append(score_val)\n",
    "    print(i,\"Iteration\", \"Train: \", score_tr, \"Validation: \", score_val)\n",
    "print(\"Max accuracy score against train set: \", max(tr))\n",
    "print(\"Max accuracy score against validation set: \",max(val))"
   ],
   "metadata": {
    "collapsed": false,
    "pycharm": {
     "name": "#%%\n"
    }
   }
  },
  {
   "cell_type": "code",
   "execution_count": 573,
   "outputs": [
    {
     "data": {
      "text/plain": "<Figure size 432x288 with 1 Axes>",
      "image/png": "[encoded data removed]"
     },
     "metadata": {
      "needs_background": "light"
     },
     "output_type": "display_data"
    }
   ],
   "source": [
    "plt.plot(tr,color=\"red\",label=\"Train\")\n",
    "plt.plot(val,color=\"blue\",label=\"Validation\")\n",
    "plt.ylabel(\"Accuracy Score\")\n",
    "plt.xlabel(\"Iteration\")\n",
    "plt.legend()\n",
    "plt.show()"
   ],
   "metadata": {
    "collapsed": false,
    "pycharm": {
     "name": "#%%\n"
    }
   }
  },
  {
   "cell_type": "code",
   "execution_count": 573,
   "outputs": [],
   "source": [],
   "metadata": {
    "collapsed": false,
    "pycharm": {
     "name": "#%%\n"
    }
   }
  }
 ],
 "metadata": {
  "kernelspec": {
   "display_name": "Python 3",
   "language": "python",
   "name": "python3"
  },
  "language_info": {
   "codemirror_mode": {
    "name": "ipython",
    "version": 2
   },
   "file_extension": ".py",
   "mimetype": "text/x-python",
   "name": "python",
   "nbconvert_exporter": "python",
   "pygments_lexer": "ipython2",
   "version": "2.7.6"
  }
 },
 "nbformat": 4,
 "nbformat_minor": 0
}