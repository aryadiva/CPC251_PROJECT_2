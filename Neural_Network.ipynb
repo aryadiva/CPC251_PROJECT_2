{
 "cells": [
  {
   "cell_type": "code",
   "execution_count": 36,
   "metadata": {
    "pycharm": {
     "name": "#%%\n"
    }
   },
   "outputs": [],
   "source": [
    "import pandas as pd\n",
    "import numpy as np\n",
    "import warnings\n",
    "warnings.filterwarnings('ignore')"
   ]
  },
  {
   "cell_type": "code",
   "execution_count": 37,
   "metadata": {
    "pycharm": {
     "name": "#%%\n"
    }
   },
   "outputs": [
    {
     "data": {
      "text/plain": "            0         1         2         3         4         5         6   \\\n4524  0.111295  0.177192  0.606549  0.257677  0.095557 -0.059224  0.010731   \n4533  0.202921  0.306537  0.706341  0.130257  0.019235 -0.090970  0.076786   \n13    0.126523 -0.040482  0.341129  0.381446  0.261154 -0.017049 -0.294064   \n1977  0.288686  0.257334  0.580794  0.150552  0.022468 -0.041250  0.139735   \n4937  0.529831  0.224731  0.427884  0.325060  0.173346 -0.025711 -0.165752   \n\n            7         8         9   ...        12        13        14  \\\n4524  0.155615 -0.015699 -0.145338  ... -0.256277 -0.167617  0.264262   \n4533  0.224931 -0.021109 -0.223403  ... -0.304949 -0.143259  0.304121   \n13   -0.222278  0.282338  0.318772  ...  0.039459  0.202870  0.029333   \n1977  0.294945 -0.029576 -0.410918  ... -0.121716 -0.345044  0.056753   \n4937  0.048385  0.409454  0.271933  ...  0.192883  0.259609  0.039216   \n\n            15        16        17        18        19        20  \\\n4524  0.222741 -0.057930 -0.163352 -0.134454  0.093734  0.217901   \n4533  0.134295 -0.184823 -0.124162  0.043617  0.200735  0.090043   \n13   -0.071544 -0.060630 -0.067230 -0.038196  0.070127  0.048440   \n1977  0.182342 -0.045592 -0.118013 -0.094401  0.010279  0.137074   \n4937 -0.132862 -0.169445 -0.029199  0.157213  0.109628 -0.108624   \n\n                          21  \n4524  AdenomeraHylaedactylus  \n4533  AdenomeraHylaedactylus  \n13            AdenomeraAndre  \n1977  AdenomeraHylaedactylus  \n4937              HylaMinuta  \n\n[5 rows x 22 columns]",
      "text/html": "<div>\n<style scoped>\n    .dataframe tbody tr th:only-of-type {\n        vertical-align: middle;\n    }\n\n    .dataframe tbody tr th {\n        vertical-align: top;\n    }\n\n    .dataframe thead th {\n        text-align: right;\n    }\n</style>\n<table border=\"1\" class=\"dataframe\">\n  <thead>\n    <tr style=\"text-align: right;\">\n      <th></th>\n      <th>0</th>\n      <th>1</th>\n      <th>2</th>\n      <th>3</th>\n      <th>4</th>\n      <th>5</th>\n      <th>6</th>\n      <th>7</th>\n      <th>8</th>\n      <th>9</th>\n      <th>...</th>\n      <th>12</th>\n      <th>13</th>\n      <th>14</th>\n      <th>15</th>\n      <th>16</th>\n      <th>17</th>\n      <th>18</th>\n      <th>19</th>\n      <th>20</th>\n      <th>21</th>\n    </tr>\n  </thead>\n  <tbody>\n    <tr>\n      <th>4524</th>\n      <td>0.111295</td>\n      <td>0.177192</td>\n      <td>0.606549</td>\n      <td>0.257677</td>\n      <td>0.095557</td>\n      <td>-0.059224</td>\n      <td>0.010731</td>\n      <td>0.155615</td>\n      <td>-0.015699</td>\n      <td>-0.145338</td>\n      <td>...</td>\n      <td>-0.256277</td>\n      <td>-0.167617</td>\n      <td>0.264262</td>\n      <td>0.222741</td>\n      <td>-0.057930</td>\n      <td>-0.163352</td>\n      <td>-0.134454</td>\n      <td>0.093734</td>\n      <td>0.217901</td>\n      <td>AdenomeraHylaedactylus</td>\n    </tr>\n    <tr>\n      <th>4533</th>\n      <td>0.202921</td>\n      <td>0.306537</td>\n      <td>0.706341</td>\n      <td>0.130257</td>\n      <td>0.019235</td>\n      <td>-0.090970</td>\n      <td>0.076786</td>\n      <td>0.224931</td>\n      <td>-0.021109</td>\n      <td>-0.223403</td>\n      <td>...</td>\n      <td>-0.304949</td>\n      <td>-0.143259</td>\n      <td>0.304121</td>\n      <td>0.134295</td>\n      <td>-0.184823</td>\n      <td>-0.124162</td>\n      <td>0.043617</td>\n      <td>0.200735</td>\n      <td>0.090043</td>\n      <td>AdenomeraHylaedactylus</td>\n    </tr>\n    <tr>\n      <th>13</th>\n      <td>0.126523</td>\n      <td>-0.040482</td>\n      <td>0.341129</td>\n      <td>0.381446</td>\n      <td>0.261154</td>\n      <td>-0.017049</td>\n      <td>-0.294064</td>\n      <td>-0.222278</td>\n      <td>0.282338</td>\n      <td>0.318772</td>\n      <td>...</td>\n      <td>0.039459</td>\n      <td>0.202870</td>\n      <td>0.029333</td>\n      <td>-0.071544</td>\n      <td>-0.060630</td>\n      <td>-0.067230</td>\n      <td>-0.038196</td>\n      <td>0.070127</td>\n      <td>0.048440</td>\n      <td>AdenomeraAndre</td>\n    </tr>\n    <tr>\n      <th>1977</th>\n      <td>0.288686</td>\n      <td>0.257334</td>\n      <td>0.580794</td>\n      <td>0.150552</td>\n      <td>0.022468</td>\n      <td>-0.041250</td>\n      <td>0.139735</td>\n      <td>0.294945</td>\n      <td>-0.029576</td>\n      <td>-0.410918</td>\n      <td>...</td>\n      <td>-0.121716</td>\n      <td>-0.345044</td>\n      <td>0.056753</td>\n      <td>0.182342</td>\n      <td>-0.045592</td>\n      <td>-0.118013</td>\n      <td>-0.094401</td>\n      <td>0.010279</td>\n      <td>0.137074</td>\n      <td>AdenomeraHylaedactylus</td>\n    </tr>\n    <tr>\n      <th>4937</th>\n      <td>0.529831</td>\n      <td>0.224731</td>\n      <td>0.427884</td>\n      <td>0.325060</td>\n      <td>0.173346</td>\n      <td>-0.025711</td>\n      <td>-0.165752</td>\n      <td>0.048385</td>\n      <td>0.409454</td>\n      <td>0.271933</td>\n      <td>...</td>\n      <td>0.192883</td>\n      <td>0.259609</td>\n      <td>0.039216</td>\n      <td>-0.132862</td>\n      <td>-0.169445</td>\n      <td>-0.029199</td>\n      <td>0.157213</td>\n      <td>0.109628</td>\n      <td>-0.108624</td>\n      <td>HylaMinuta</td>\n    </tr>\n  </tbody>\n</table>\n<p>5 rows × 22 columns</p>\n</div>"
     },
     "execution_count": 37,
     "metadata": {},
     "output_type": "execute_result"
    }
   ],
   "source": [
    "# Read dataset from csv file\n",
    "data = pd.read_csv('frogs_mfcc1.csv', sep=',',header=None)\n",
    "data.sample(5)"
   ]
  },
  {
   "cell_type": "code",
   "execution_count": 38,
   "outputs": [
    {
     "data": {
      "text/plain": "(7195, 22)"
     },
     "execution_count": 38,
     "metadata": {},
     "output_type": "execute_result"
    }
   ],
   "source": [
    "data.shape"
   ],
   "metadata": {
    "collapsed": false,
    "pycharm": {
     "name": "#%%\n"
    }
   }
  },
  {
   "cell_type": "code",
   "execution_count": 39,
   "outputs": [
    {
     "data": {
      "text/plain": "0     0\n1     0\n2     0\n3     0\n4     0\n5     0\n6     0\n7     0\n8     0\n9     0\n10    0\n11    0\n12    0\n13    0\n14    0\n15    0\n16    0\n17    0\n18    0\n19    0\n20    0\n21    0\ndtype: int64"
     },
     "execution_count": 39,
     "metadata": {},
     "output_type": "execute_result"
    }
   ],
   "source": [
    "data.isna().sum()"
   ],
   "metadata": {
    "collapsed": false,
    "pycharm": {
     "name": "#%%\n"
    }
   }
  },
  {
   "cell_type": "code",
   "execution_count": 40,
   "outputs": [
    {
     "data": {
      "text/plain": "Int64Index([0, 1, 2, 3, 4, 5, 6, 7, 8, 9, 10, 11, 12, 13, 14, 15, 16, 17, 18,\n            19, 20, 21],\n           dtype='int64')"
     },
     "execution_count": 40,
     "metadata": {},
     "output_type": "execute_result"
    }
   ],
   "source": [
    "data.columns"
   ],
   "metadata": {
    "collapsed": false,
    "pycharm": {
     "name": "#%%\n"
    }
   }
  },
  {
   "cell_type": "code",
   "execution_count": 41,
   "outputs": [
    {
     "data": {
      "text/plain": "AdenomeraHylaedactylus    3478\nHypsiboasCordobae         1121\nAdenomeraAndre             672\nAmeeregatrivittata         542\nHypsiboasCinerascens       472\nHylaMinuta                 310\nLeptodactylusFuscus        270\nScinaxRuber                148\nOsteocephalusOophagus      114\nRhinellagranulosa           68\nName: 21, dtype: int64"
     },
     "execution_count": 41,
     "metadata": {},
     "output_type": "execute_result"
    }
   ],
   "source": [
    "data[21].value_counts()"
   ],
   "metadata": {
    "collapsed": false,
    "pycharm": {
     "name": "#%%\n"
    }
   }
  },
  {
   "cell_type": "code",
   "execution_count": 42,
   "outputs": [
    {
     "data": {
      "text/plain": "0       AdenomeraAndre\n1       AdenomeraAndre\n2       AdenomeraAndre\n3       AdenomeraAndre\n4       AdenomeraAndre\n             ...      \n7190       ScinaxRuber\n7191       ScinaxRuber\n7192       ScinaxRuber\n7193       ScinaxRuber\n7194       ScinaxRuber\nName: 21, Length: 7195, dtype: object"
     },
     "execution_count": 42,
     "metadata": {},
     "output_type": "execute_result"
    }
   ],
   "source": [
    "x=data.drop(21,axis='columns')\n",
    "y=data[21]\n",
    "\n",
    "y"
   ],
   "metadata": {
    "collapsed": false,
    "pycharm": {
     "name": "#%%\n"
    }
   }
  },
  {
   "cell_type": "code",
   "execution_count": 43,
   "outputs": [
    {
     "data": {
      "text/plain": "      AdenomeraHylaedactylus  Ameeregatrivittata  HylaMinuta  \\\n6438                       0                   0           0   \n3303                       1                   0           0   \n3065                       1                   0           0   \n2476                       1                   0           0   \n6640                       0                   0           0   \n3062                       1                   0           0   \n6327                       0                   0           0   \n3740                       1                   0           0   \n7083                       0                   0           0   \n7009                       0                   0           0   \n\n      HypsiboasCinerascens  HypsiboasCordobae  LeptodactylusFuscus  \\\n6438                     0                  1                    0   \n3303                     0                  0                    0   \n3065                     0                  0                    0   \n2476                     0                  0                    0   \n6640                     0                  0                    1   \n3062                     0                  0                    0   \n6327                     0                  1                    0   \n3740                     0                  0                    0   \n7083                     0                  0                    0   \n7009                     0                  0                    0   \n\n      OsteocephalusOophagus  Rhinellagranulosa  ScinaxRuber  \n6438                      0                  0            0  \n3303                      0                  0            0  \n3065                      0                  0            0  \n2476                      0                  0            0  \n6640                      0                  0            0  \n3062                      0                  0            0  \n6327                      0                  0            0  \n3740                      0                  0            0  \n7083                      0                  0            1  \n7009                      0                  1            0  ",
      "text/html": "<div>\n<style scoped>\n    .dataframe tbody tr th:only-of-type {\n        vertical-align: middle;\n    }\n\n    .dataframe tbody tr th {\n        vertical-align: top;\n    }\n\n    .dataframe thead th {\n        text-align: right;\n    }\n</style>\n<table border=\"1\" class=\"dataframe\">\n  <thead>\n    <tr style=\"text-align: right;\">\n      <th></th>\n      <th>AdenomeraHylaedactylus</th>\n      <th>Ameeregatrivittata</th>\n      <th>HylaMinuta</th>\n      <th>HypsiboasCinerascens</th>\n      <th>HypsiboasCordobae</th>\n      <th>LeptodactylusFuscus</th>\n      <th>OsteocephalusOophagus</th>\n      <th>Rhinellagranulosa</th>\n      <th>ScinaxRuber</th>\n    </tr>\n  </thead>\n  <tbody>\n    <tr>\n      <th>6438</th>\n      <td>0</td>\n      <td>0</td>\n      <td>0</td>\n      <td>0</td>\n      <td>1</td>\n      <td>0</td>\n      <td>0</td>\n      <td>0</td>\n      <td>0</td>\n    </tr>\n    <tr>\n      <th>3303</th>\n      <td>1</td>\n      <td>0</td>\n      <td>0</td>\n      <td>0</td>\n      <td>0</td>\n      <td>0</td>\n      <td>0</td>\n      <td>0</td>\n      <td>0</td>\n    </tr>\n    <tr>\n      <th>3065</th>\n      <td>1</td>\n      <td>0</td>\n      <td>0</td>\n      <td>0</td>\n      <td>0</td>\n      <td>0</td>\n      <td>0</td>\n      <td>0</td>\n      <td>0</td>\n    </tr>\n    <tr>\n      <th>2476</th>\n      <td>1</td>\n      <td>0</td>\n      <td>0</td>\n      <td>0</td>\n      <td>0</td>\n      <td>0</td>\n      <td>0</td>\n      <td>0</td>\n      <td>0</td>\n    </tr>\n    <tr>\n      <th>6640</th>\n      <td>0</td>\n      <td>0</td>\n      <td>0</td>\n      <td>0</td>\n      <td>0</td>\n      <td>1</td>\n      <td>0</td>\n      <td>0</td>\n      <td>0</td>\n    </tr>\n    <tr>\n      <th>3062</th>\n      <td>1</td>\n      <td>0</td>\n      <td>0</td>\n      <td>0</td>\n      <td>0</td>\n      <td>0</td>\n      <td>0</td>\n      <td>0</td>\n      <td>0</td>\n    </tr>\n    <tr>\n      <th>6327</th>\n      <td>0</td>\n      <td>0</td>\n      <td>0</td>\n      <td>0</td>\n      <td>1</td>\n      <td>0</td>\n      <td>0</td>\n      <td>0</td>\n      <td>0</td>\n    </tr>\n    <tr>\n      <th>3740</th>\n      <td>1</td>\n      <td>0</td>\n      <td>0</td>\n      <td>0</td>\n      <td>0</td>\n      <td>0</td>\n      <td>0</td>\n      <td>0</td>\n      <td>0</td>\n    </tr>\n    <tr>\n      <th>7083</th>\n      <td>0</td>\n      <td>0</td>\n      <td>0</td>\n      <td>0</td>\n      <td>0</td>\n      <td>0</td>\n      <td>0</td>\n      <td>0</td>\n      <td>1</td>\n    </tr>\n    <tr>\n      <th>7009</th>\n      <td>0</td>\n      <td>0</td>\n      <td>0</td>\n      <td>0</td>\n      <td>0</td>\n      <td>0</td>\n      <td>0</td>\n      <td>1</td>\n      <td>0</td>\n    </tr>\n  </tbody>\n</table>\n</div>"
     },
     "execution_count": 43,
     "metadata": {},
     "output_type": "execute_result"
    }
   ],
   "source": [
    "y=pd.get_dummies(y,drop_first=True)\n",
    "y.sample(10)"
   ],
   "metadata": {
    "collapsed": false,
    "pycharm": {
     "name": "#%%\n"
    }
   }
  },
  {
   "cell_type": "code",
   "execution_count": 44,
   "outputs": [
    {
     "data": {
      "text/plain": "AdenomeraHylaedactylus  Ameeregatrivittata  HylaMinuta  HypsiboasCinerascens  HypsiboasCordobae  LeptodactylusFuscus  OsteocephalusOophagus  Rhinellagranulosa  ScinaxRuber\n1                       0                   0           0                     0                  0                    0                      0                  0              3478\n0                       0                   0           0                     1                  0                    0                      0                  0              1121\n                                                                              0                  0                    0                      0                  0               672\n                        1                   0           0                     0                  0                    0                      0                  0               542\n                        0                   0           1                     0                  0                    0                      0                  0               472\n                                            1           0                     0                  0                    0                      0                  0               310\n                                            0           0                     0                  1                    0                      0                  0               270\n                                                                                                 0                    0                      0                  1               148\n                                                                                                                      1                      0                  0               114\n                                                                                                                      0                      1                  0                68\ndtype: int64"
     },
     "execution_count": 44,
     "metadata": {},
     "output_type": "execute_result"
    }
   ],
   "source": [
    "y.value_counts()"
   ],
   "metadata": {
    "collapsed": false,
    "pycharm": {
     "name": "#%%\n"
    }
   }
  },
  {
   "cell_type": "code",
   "execution_count": 45,
   "metadata": {
    "pycharm": {
     "name": "#%%\n"
    }
   },
   "outputs": [
    {
     "name": "stdout",
     "output_type": "stream",
     "text": [
      "(4856, 21)\n",
      "(1799, 21)\n",
      "(540, 21)\n",
      "(540, 9)\n",
      "(4856, 9)\n",
      "(1799, 9)\n"
     ]
    }
   ],
   "source": [
    "#split the data into training and testing\n",
    "from sklearn.model_selection import train_test_split\n",
    "x_train, x_test, y_train, y_test = train_test_split(x, y, test_size=0.25, random_state=42)\n",
    "x_train, x_val, y_train, y_val = train_test_split(x_train, y_train, test_size=0.1, random_state=42)\n",
    "print(x_train.shape)\n",
    "print(x_test.shape)\n",
    "print(x_val.shape)\n",
    "print(y_val.shape)\n",
    "print(y_train.shape)\n",
    "print(y_test.shape)"
   ]
  },
  {
   "cell_type": "code",
   "execution_count": 46,
   "outputs": [],
   "source": [
    "import tensorflow as tf\n",
    "from tensorflow import keras"
   ],
   "metadata": {
    "collapsed": false,
    "pycharm": {
     "name": "#%%\n"
    }
   }
  },
  {
   "cell_type": "code",
   "execution_count": 47,
   "outputs": [],
   "source": [
    "# create the model\n",
    "model=keras.Sequential([\n",
    "    keras.layers.Dense(21,input_dim=21,activation='relu'),\n",
    "    keras.layers.Dense(18,activation='relu'),\n",
    "    keras.layers.Dense(14,activation='relu'),\n",
    "    keras.layers.Dense(9,activation='sigmoid')\n",
    "])\n",
    "\n",
    "model.compile(loss='binary_crossentropy',optimizer='adam',metrics=['accuracy'])\n",
    "\n",
    "my_callbacks = [\n",
    "    tf.keras.callbacks.EarlyStopping(patience=5,monitor='val_loss'),\n",
    "    tf.keras.callbacks.ModelCheckpoint(filepath='checkpoints/',monitor='val_loss',save_weights_only=True)\n",
    "]"
   ],
   "metadata": {
    "collapsed": false,
    "pycharm": {
     "name": "#%%\n"
    }
   }
  },
  {
   "cell_type": "code",
   "execution_count": 48,
   "outputs": [],
   "source": [
    "loss_fn = tf.keras.losses.BinaryCrossentropy()"
   ],
   "metadata": {
    "collapsed": false,
    "pycharm": {
     "name": "#%%\n"
    }
   }
  },
  {
   "cell_type": "code",
   "execution_count": 49,
   "outputs": [
    {
     "name": "stdout",
     "output_type": "stream",
     "text": [
      "Epoch 1/20\n",
      "152/152 [==============================] - 1s 2ms/step - loss: 0.4282 - accuracy: 0.5768 - val_loss: 0.2120 - val_accuracy: 0.5574\n",
      "Epoch 2/20\n",
      "152/152 [==============================] - 0s 1ms/step - loss: 0.1679 - accuracy: 0.6129 - val_loss: 0.1453 - val_accuracy: 0.6204\n",
      "Epoch 3/20\n",
      "152/152 [==============================] - 0s 1ms/step - loss: 0.1292 - accuracy: 0.6806 - val_loss: 0.1179 - val_accuracy: 0.6963\n",
      "Epoch 4/20\n",
      "152/152 [==============================] - 0s 1ms/step - loss: 0.1063 - accuracy: 0.7360 - val_loss: 0.0966 - val_accuracy: 0.7667\n",
      "Epoch 5/20\n",
      "152/152 [==============================] - 0s 1ms/step - loss: 0.0889 - accuracy: 0.7809 - val_loss: 0.0814 - val_accuracy: 0.7815\n",
      "Epoch 6/20\n",
      "152/152 [==============================] - 0s 1ms/step - loss: 0.0746 - accuracy: 0.7953 - val_loss: 0.0663 - val_accuracy: 0.8130\n",
      "Epoch 7/20\n",
      "152/152 [==============================] - 0s 1ms/step - loss: 0.0616 - accuracy: 0.8233 - val_loss: 0.0542 - val_accuracy: 0.8333\n",
      "Epoch 8/20\n",
      "152/152 [==============================] - 0s 1ms/step - loss: 0.0543 - accuracy: 0.8299 - val_loss: 0.0481 - val_accuracy: 0.8333\n",
      "Epoch 9/20\n",
      "152/152 [==============================] - 0s 1ms/step - loss: 0.0500 - accuracy: 0.8326 - val_loss: 0.0442 - val_accuracy: 0.8407\n",
      "Epoch 10/20\n",
      "152/152 [==============================] - 0s 1ms/step - loss: 0.0474 - accuracy: 0.8377 - val_loss: 0.0422 - val_accuracy: 0.8519\n",
      "Epoch 11/20\n",
      "152/152 [==============================] - 0s 1ms/step - loss: 0.0451 - accuracy: 0.8449 - val_loss: 0.0397 - val_accuracy: 0.8630\n",
      "Epoch 12/20\n",
      "152/152 [==============================] - 0s 1ms/step - loss: 0.0431 - accuracy: 0.8503 - val_loss: 0.0373 - val_accuracy: 0.8611\n",
      "Epoch 13/20\n",
      "152/152 [==============================] - 0s 1ms/step - loss: 0.0415 - accuracy: 0.8546 - val_loss: 0.0360 - val_accuracy: 0.8778\n",
      "Epoch 14/20\n",
      "152/152 [==============================] - 0s 1ms/step - loss: 0.0399 - accuracy: 0.8577 - val_loss: 0.0342 - val_accuracy: 0.8833\n",
      "Epoch 15/20\n",
      "152/152 [==============================] - 0s 1ms/step - loss: 0.0382 - accuracy: 0.8647 - val_loss: 0.0318 - val_accuracy: 0.8833\n",
      "Epoch 16/20\n",
      "152/152 [==============================] - 0s 1ms/step - loss: 0.0367 - accuracy: 0.8678 - val_loss: 0.0306 - val_accuracy: 0.8852\n",
      "Epoch 17/20\n",
      "152/152 [==============================] - 0s 1ms/step - loss: 0.0350 - accuracy: 0.8717 - val_loss: 0.0288 - val_accuracy: 0.8852\n",
      "Epoch 18/20\n",
      "152/152 [==============================] - 0s 1ms/step - loss: 0.0337 - accuracy: 0.8723 - val_loss: 0.0288 - val_accuracy: 0.8815\n",
      "Epoch 19/20\n",
      "152/152 [==============================] - 0s 1ms/step - loss: 0.0324 - accuracy: 0.8738 - val_loss: 0.0269 - val_accuracy: 0.8870\n",
      "Epoch 20/20\n",
      "152/152 [==============================] - 0s 1ms/step - loss: 0.0313 - accuracy: 0.8769 - val_loss: 0.0253 - val_accuracy: 0.8852\n"
     ]
    }
   ],
   "source": [
    "history=model.fit(x_train, y_train, validation_data=(x_val, y_val),batch_size=32, epochs=20, shuffle=True, verbose=1, validation_split=0,callbacks=my_callbacks)"
   ],
   "metadata": {
    "collapsed": false,
    "pycharm": {
     "name": "#%%\n"
    }
   }
  },
  {
   "cell_type": "code",
   "execution_count": 50,
   "outputs": [
    {
     "name": "stdout",
     "output_type": "stream",
     "text": [
      "57/57 [==============================] - 0s 679us/step - loss: 0.0325 - accuracy: 0.8638\n"
     ]
    },
    {
     "data": {
      "text/plain": "[0.03254121169447899, 0.8638132214546204]"
     },
     "execution_count": 50,
     "metadata": {},
     "output_type": "execute_result"
    }
   ],
   "source": [
    "model.evaluate(x_test,y_test)"
   ],
   "metadata": {
    "collapsed": false,
    "pycharm": {
     "name": "#%%\n"
    }
   }
  },
  {
   "cell_type": "code",
   "execution_count": 51,
   "outputs": [
    {
     "name": "stdout",
     "output_type": "stream",
     "text": [
      "57/57 [==============================] - 0s 643us/step\n",
      "[[9.84474182e-01 6.59963273e-12 1.56042827e-02 6.36589888e-16\n",
      "  1.46523162e-05 3.87865953e-07 8.40354479e-13 4.77131948e-07\n",
      "  5.21256115e-05]\n",
      " [4.88490681e-04 1.15656749e-05 9.62622798e-05 9.87018347e-01\n",
      "  1.24988628e-06 1.99230760e-03 8.10587034e-03 1.38240354e-02\n",
      "  1.91125590e-02]\n",
      " [1.98575645e-03 4.13382106e-04 7.36741209e-03 5.84971758e-06\n",
      "  9.82478440e-01 1.24632148e-03 3.75630130e-04 1.71593740e-03\n",
      "  3.42113078e-02]\n",
      " [9.97387409e-01 1.73885930e-13 5.15148370e-03 4.11986788e-15\n",
      "  1.28969464e-06 7.02829425e-07 2.77278092e-13 2.86146985e-07\n",
      "  6.57718774e-05]\n",
      " [9.99043584e-01 2.44095011e-15 1.42566732e-03 4.78925663e-16\n",
      "  2.43052902e-08 1.41811057e-07 4.10045728e-15 3.91649806e-08\n",
      "  3.79050107e-05]\n",
      " [9.84567463e-01 2.62975319e-12 2.24416913e-03 1.06349710e-13\n",
      "  4.17425363e-05 1.59428157e-06 4.64064117e-12 5.96585494e-07\n",
      "  3.94156814e-04]\n",
      " [9.64696169e-01 2.05700422e-11 1.20275961e-02 1.37447097e-16\n",
      "  3.10551732e-05 1.16011556e-07 5.39680551e-13 3.41879144e-07\n",
      "  5.96884311e-05]\n",
      " [2.47701992e-05 3.54668088e-02 2.02997476e-02 6.48116895e-07\n",
      "  1.65861451e-07 1.95563734e-06 1.10293267e-05 5.22083184e-03\n",
      "  4.03546495e-03]\n",
      " [6.02797227e-05 1.17754645e-03 5.18033188e-03 4.71703206e-05\n",
      "  1.73774970e-04 4.31276967e-05 4.91643930e-03 1.74679346e-02\n",
      "  5.91789896e-04]\n",
      " [6.54397474e-04 1.75221357e-04 2.75434024e-04 9.49484289e-01\n",
      "  1.84628530e-04 3.28703132e-03 4.47716117e-02 2.08839327e-02\n",
      "  2.68970691e-02]]\n",
      "[[1. 0. 0. 0. 0. 0. 0. 0. 0.]\n",
      " [0. 0. 0. 1. 0. 0. 0. 0. 0.]\n",
      " [0. 0. 0. 0. 1. 0. 0. 0. 0.]\n",
      " [1. 0. 0. 0. 0. 0. 0. 0. 0.]\n",
      " [1. 0. 0. 0. 0. 0. 0. 0. 0.]\n",
      " [1. 0. 0. 0. 0. 0. 0. 0. 0.]\n",
      " [1. 0. 0. 0. 0. 0. 0. 0. 0.]\n",
      " [0. 0. 0. 0. 0. 0. 0. 0. 0.]\n",
      " [0. 0. 0. 0. 0. 0. 0. 0. 0.]\n",
      " [0. 0. 0. 1. 0. 0. 0. 0. 0.]]\n"
     ]
    }
   ],
   "source": [
    "y_pred=model.predict(x_test)\n",
    "print(y_pred[:10])\n",
    "\n",
    "y_pred=np.round(y_pred)\n",
    "print(y_pred[:10])"
   ],
   "metadata": {
    "collapsed": false,
    "pycharm": {
     "name": "#%%\n"
    }
   }
  },
  {
   "cell_type": "code",
   "execution_count": 52,
   "outputs": [
    {
     "data": {
      "text/plain": "      AdenomeraHylaedactylus  Ameeregatrivittata  HylaMinuta  \\\n3340                       1                   0           0   \n5108                       0                   0           0   \n6524                       0                   0           0   \n3649                       1                   0           0   \n1617                       1                   0           0   \n3113                       1                   0           0   \n3337                       1                   0           0   \n132                        0                   0           0   \n308                        0                   0           0   \n5164                       0                   0           0   \n\n      HypsiboasCinerascens  HypsiboasCordobae  LeptodactylusFuscus  \\\n3340                     0                  0                    0   \n5108                     1                  0                    0   \n6524                     0                  1                    0   \n3649                     0                  0                    0   \n1617                     0                  0                    0   \n3113                     0                  0                    0   \n3337                     0                  0                    0   \n132                      0                  0                    0   \n308                      0                  0                    0   \n5164                     1                  0                    0   \n\n      OsteocephalusOophagus  Rhinellagranulosa  ScinaxRuber  \n3340                      0                  0            0  \n5108                      0                  0            0  \n6524                      0                  0            0  \n3649                      0                  0            0  \n1617                      0                  0            0  \n3113                      0                  0            0  \n3337                      0                  0            0  \n132                       0                  0            0  \n308                       0                  0            0  \n5164                      0                  0            0  ",
      "text/html": "<div>\n<style scoped>\n    .dataframe tbody tr th:only-of-type {\n        vertical-align: middle;\n    }\n\n    .dataframe tbody tr th {\n        vertical-align: top;\n    }\n\n    .dataframe thead th {\n        text-align: right;\n    }\n</style>\n<table border=\"1\" class=\"dataframe\">\n  <thead>\n    <tr style=\"text-align: right;\">\n      <th></th>\n      <th>AdenomeraHylaedactylus</th>\n      <th>Ameeregatrivittata</th>\n      <th>HylaMinuta</th>\n      <th>HypsiboasCinerascens</th>\n      <th>HypsiboasCordobae</th>\n      <th>LeptodactylusFuscus</th>\n      <th>OsteocephalusOophagus</th>\n      <th>Rhinellagranulosa</th>\n      <th>ScinaxRuber</th>\n    </tr>\n  </thead>\n  <tbody>\n    <tr>\n      <th>3340</th>\n      <td>1</td>\n      <td>0</td>\n      <td>0</td>\n      <td>0</td>\n      <td>0</td>\n      <td>0</td>\n      <td>0</td>\n      <td>0</td>\n      <td>0</td>\n    </tr>\n    <tr>\n      <th>5108</th>\n      <td>0</td>\n      <td>0</td>\n      <td>0</td>\n      <td>1</td>\n      <td>0</td>\n      <td>0</td>\n      <td>0</td>\n      <td>0</td>\n      <td>0</td>\n    </tr>\n    <tr>\n      <th>6524</th>\n      <td>0</td>\n      <td>0</td>\n      <td>0</td>\n      <td>0</td>\n      <td>1</td>\n      <td>0</td>\n      <td>0</td>\n      <td>0</td>\n      <td>0</td>\n    </tr>\n    <tr>\n      <th>3649</th>\n      <td>1</td>\n      <td>0</td>\n      <td>0</td>\n      <td>0</td>\n      <td>0</td>\n      <td>0</td>\n      <td>0</td>\n      <td>0</td>\n      <td>0</td>\n    </tr>\n    <tr>\n      <th>1617</th>\n      <td>1</td>\n      <td>0</td>\n      <td>0</td>\n      <td>0</td>\n      <td>0</td>\n      <td>0</td>\n      <td>0</td>\n      <td>0</td>\n      <td>0</td>\n    </tr>\n    <tr>\n      <th>3113</th>\n      <td>1</td>\n      <td>0</td>\n      <td>0</td>\n      <td>0</td>\n      <td>0</td>\n      <td>0</td>\n      <td>0</td>\n      <td>0</td>\n      <td>0</td>\n    </tr>\n    <tr>\n      <th>3337</th>\n      <td>1</td>\n      <td>0</td>\n      <td>0</td>\n      <td>0</td>\n      <td>0</td>\n      <td>0</td>\n      <td>0</td>\n      <td>0</td>\n      <td>0</td>\n    </tr>\n    <tr>\n      <th>132</th>\n      <td>0</td>\n      <td>0</td>\n      <td>0</td>\n      <td>0</td>\n      <td>0</td>\n      <td>0</td>\n      <td>0</td>\n      <td>0</td>\n      <td>0</td>\n    </tr>\n    <tr>\n      <th>308</th>\n      <td>0</td>\n      <td>0</td>\n      <td>0</td>\n      <td>0</td>\n      <td>0</td>\n      <td>0</td>\n      <td>0</td>\n      <td>0</td>\n      <td>0</td>\n    </tr>\n    <tr>\n      <th>5164</th>\n      <td>0</td>\n      <td>0</td>\n      <td>0</td>\n      <td>1</td>\n      <td>0</td>\n      <td>0</td>\n      <td>0</td>\n      <td>0</td>\n      <td>0</td>\n    </tr>\n  </tbody>\n</table>\n</div>"
     },
     "execution_count": 52,
     "metadata": {},
     "output_type": "execute_result"
    }
   ],
   "source": [
    "y_test[:10]"
   ],
   "metadata": {
    "collapsed": false,
    "pycharm": {
     "name": "#%%\n"
    }
   }
  },
  {
   "cell_type": "code",
   "execution_count": 53,
   "outputs": [
    {
     "name": "stdout",
     "output_type": "stream",
     "text": [
      "              precision    recall  f1-score   support\n",
      "\n",
      "           0       0.98      1.00      0.99       860\n",
      "           1       0.94      0.96      0.95       138\n",
      "           2       0.94      0.66      0.78        71\n",
      "           3       0.90      0.95      0.93       110\n",
      "           4       0.99      0.98      0.98       287\n",
      "           5       0.94      0.88      0.91        73\n",
      "           6       0.88      0.56      0.68        25\n",
      "           7       0.00      0.00      0.00        21\n",
      "           8       1.00      0.38      0.55        32\n",
      "\n",
      "   micro avg       0.97      0.94      0.95      1617\n",
      "   macro avg       0.84      0.71      0.75      1617\n",
      "weighted avg       0.96      0.94      0.94      1617\n",
      " samples avg       0.84      0.84      0.84      1617\n",
      "\n"
     ]
    }
   ],
   "source": [
    "from sklearn.metrics import confusion_matrix,classification_report\n",
    "#print(y_test.shape)\n",
    "#print(y_pred.shape)\n",
    "print(classification_report(y_test,y_pred))"
   ],
   "metadata": {
    "collapsed": false,
    "pycharm": {
     "name": "#%%\n"
    }
   }
  },
  {
   "cell_type": "code",
   "execution_count": null,
   "outputs": [],
   "source": [
    "print()"
   ],
   "metadata": {
    "collapsed": false,
    "pycharm": {
     "name": "#%%\n"
    }
   }
  },
  {
   "cell_type": "code",
   "execution_count": 54,
   "outputs": [
    {
     "data": {
      "text/plain": "<tensorflow.python.training.tracking.util.CheckpointLoadStatus at 0x2b1bb7f2fa0>"
     },
     "execution_count": 54,
     "metadata": {},
     "output_type": "execute_result"
    }
   ],
   "source": [
    "# Save the weights, specify the path\n",
    "model.save_weights('model_weights/')\n",
    "# Restore the weights\n",
    "model.load_weights('model_weights/')\n"
   ],
   "metadata": {
    "collapsed": false,
    "pycharm": {
     "name": "#%%\n"
    }
   }
  },
  {
   "cell_type": "code",
   "execution_count": 55,
   "outputs": [
    {
     "name": "stdout",
     "output_type": "stream",
     "text": [
      "INFO:tensorflow:Assets written to: models\\assets\n"
     ]
    }
   ],
   "source": [
    "# Save the entire model as a SavedModel.\n",
    "model.save('models')"
   ],
   "metadata": {
    "collapsed": false,
    "pycharm": {
     "name": "#%%\n"
    }
   }
  },
  {
   "cell_type": "code",
   "execution_count": 56,
   "outputs": [],
   "source": [
    "model_new = tf.keras.models.load_model('models')"
   ],
   "metadata": {
    "collapsed": false,
    "pycharm": {
     "name": "#%%\n"
    }
   }
  },
  {
   "cell_type": "code",
   "execution_count": 57,
   "outputs": [
    {
     "name": "stdout",
     "output_type": "stream",
     "text": [
      "Model: \"sequential_1\"\n",
      "_________________________________________________________________\n",
      " Layer (type)                Output Shape              Param #   \n",
      "=================================================================\n",
      " dense_4 (Dense)             (None, 21)                462       \n",
      "                                                                 \n",
      " dense_5 (Dense)             (None, 18)                396       \n",
      "                                                                 \n",
      " dense_6 (Dense)             (None, 14)                266       \n",
      "                                                                 \n",
      " dense_7 (Dense)             (None, 9)                 135       \n",
      "                                                                 \n",
      "=================================================================\n",
      "Total params: 1,259\n",
      "Trainable params: 1,259\n",
      "Non-trainable params: 0\n",
      "_________________________________________________________________\n"
     ]
    }
   ],
   "source": [
    "model_new.build(input_shape=(None,30))\n",
    "model.summary()"
   ],
   "metadata": {
    "collapsed": false,
    "pycharm": {
     "name": "#%%\n"
    }
   }
  },
  {
   "cell_type": "code",
   "execution_count": 58,
   "outputs": [
    {
     "data": {
      "text/plain": "<matplotlib.legend.Legend at 0x2b1bcc91d60>"
     },
     "execution_count": 58,
     "metadata": {},
     "output_type": "execute_result"
    },
    {
     "data": {
      "text/plain": "<Figure size 432x288 with 1 Axes>",
      "image/png": "[encoded data removed]"
     },
     "metadata": {
      "needs_background": "light"
     },
     "output_type": "display_data"
    }
   ],
   "source": [
    "from matplotlib import pyplot as plt\n",
    "\n",
    "loss_train = history.history['loss']\n",
    "loss_vald = history.history['val_loss']\n",
    "\n",
    "plt.plot(loss_train, label='train loss')\n",
    "plt.plot(loss_vald, label='validation loss')\n",
    "plt.legend()"
   ],
   "metadata": {
    "collapsed": false,
    "pycharm": {
     "name": "#%%\n"
    }
   }
  },
  {
   "cell_type": "code",
   "execution_count": 59,
   "outputs": [],
   "source": [
    "#--------------------------------------------------------------------"
   ],
   "metadata": {
    "collapsed": false,
    "pycharm": {
     "name": "#%%\n"
    }
   }
  }
 ],
 "metadata": {
  "kernelspec": {
   "display_name": "Python 3 (ipykernel)",
   "language": "python",
   "name": "python3"
  },
  "language_info": {
   "codemirror_mode": {
    "name": "ipython",
    "version": 3
   },
   "file_extension": ".py",
   "mimetype": "text/x-python",
   "name": "python",
   "nbconvert_exporter": "python",
   "pygments_lexer": "ipython3",
   "version": "3.9.7"
  }
 },
 "nbformat": 4,
 "nbformat_minor": 2
}